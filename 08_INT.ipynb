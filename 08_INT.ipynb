{
  "nbformat": 4,
  "nbformat_minor": 0,
  "metadata": {
    "colab": {
      "provenance": [],
      "authorship_tag": "ABX9TyOaQT1GxsvpZfSvx8Xt0D+p",
      "include_colab_link": true
    },
    "kernelspec": {
      "name": "python3",
      "display_name": "Python 3"
    },
    "language_info": {
      "name": "python"
    }
  },
  "cells": [
    {
      "cell_type": "markdown",
      "metadata": {
        "id": "view-in-github",
        "colab_type": "text"
      },
      "source": [
        "<a href=\"https://colab.research.google.com/github/Fayli775/INFOSYS722-Iteration4/blob/main/08_INT.ipynb\" target=\"_parent\"><img src=\"https://colab.research.google.com/assets/colab-badge.svg\" alt=\"Open In Colab\"/></a>"
      ]
    },
    {
      "cell_type": "markdown",
      "source": [],
      "metadata": {
        "id": "rYvelYBuSS6e"
      }
    },
    {
      "cell_type": "markdown",
      "source": [
        "Auckland traffic analysis through systematic comparison of 31 model configurations, selecting K-Means K=14 clustering (Silhouette=0.703) and Decision Tree prediction (R²=0.595, MAE=3,129), revealing vehicle composition dominates traffic volume (88.4% importance) over temporal factors"
      ],
      "metadata": {
        "id": "7iQoXupjSS9h"
      }
    }
  ]
}