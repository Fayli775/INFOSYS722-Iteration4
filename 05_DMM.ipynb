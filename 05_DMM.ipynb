{
  "nbformat": 4,
  "nbformat_minor": 0,
  "metadata": {
    "colab": {
      "provenance": [],
      "authorship_tag": "ABX9TyPsp6GRsyTQ7oEXTqVj+2jN",
      "include_colab_link": true
    },
    "kernelspec": {
      "name": "python3",
      "display_name": "Python 3"
    },
    "language_info": {
      "name": "python"
    }
  },
  "cells": [
    {
      "cell_type": "markdown",
      "metadata": {
        "id": "view-in-github",
        "colab_type": "text"
      },
      "source": [
        "<a href=\"https://colab.research.google.com/github/Fayli775/INFOSYS722-Iteration4/blob/main/05_DMM.ipynb\" target=\"_parent\"><img src=\"https://colab.research.google.com/assets/colab-badge.svg\" alt=\"Open In Colab\"/></a>"
      ]
    },
    {
      "cell_type": "code",
      "execution_count": 1,
      "metadata": {
        "colab": {
          "base_uri": "https://localhost:8080/"
        },
        "id": "f8anbbELaUv4",
        "outputId": "345590dd-1e53-42d5-8024-90cd453e2d78"
      },
      "outputs": [
        {
          "output_type": "stream",
          "name": "stdout",
          "text": [
            "\n",
            "Based on the project's dual objectives for traffic flow analysis and dataset characteristics, \n",
            "this study employs a strategically designed portfolio of complementary methods: Multiple Linear \n",
            "Regression as an interpretable baseline for prediction, Decision Tree Regression to capture non-linear\n",
            " patterns and threshold effects, Random Tree for enhanced stability through ensemble principles, and TwoStep\n",
            "  Clustering to discover latent traffic flow segments. This combination ensures both supervised learning \n",
            "  capabilities for traffic demand forecasting and unsupervised pattern identification within Auckland's traffic \n",
            "  system, while maintaining computational efficiency and practical applicability across the 1.37 million record dataset.\n",
            "\n"
          ]
        }
      ],
      "source": [
        "quote = \"\"\"\n",
        "Based on the project's dual objectives for traffic flow analysis and dataset characteristics,\n",
        "this study employs a strategically designed portfolio of complementary methods: Multiple Linear\n",
        "Regression as an interpretable baseline for prediction, Decision Tree Regression to capture non-linear\n",
        " patterns and threshold effects, Random Tree for enhanced stability through ensemble principles, and TwoStep\n",
        "  Clustering to discover latent traffic flow segments. This combination ensures both supervised learning\n",
        "  capabilities for traffic demand forecasting and unsupervised pattern identification within Auckland's traffic\n",
        "  system, while maintaining computational efficiency and practical applicability across the 1.37 million record dataset.\n",
        "\"\"\"\n",
        "print(quote)"
      ]
    }
  ]
}